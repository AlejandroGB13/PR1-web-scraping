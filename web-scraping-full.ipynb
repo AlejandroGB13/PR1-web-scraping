{
 "cells": [
  {
   "cell_type": "markdown",
   "id": "fff16e69",
   "metadata": {},
   "source": [
    "# Needed imports"
   ]
  },
  {
   "cell_type": "code",
   "execution_count": 1,
   "id": "d137b2ae",
   "metadata": {},
   "outputs": [],
   "source": [
    "import requests\n",
    "from bs4 import BeautifulSoup"
   ]
  },
  {
   "cell_type": "markdown",
   "id": "7cc06106",
   "metadata": {},
   "source": [
    "# Main code"
   ]
  },
  {
   "cell_type": "code",
   "execution_count": 2,
   "id": "bbc96781",
   "metadata": {},
   "outputs": [
    {
     "name": "stdout",
     "output_type": "stream",
     "text": [
      "Status main web page:  200\n",
      "Getting stats from:  https://www.coingecko.com/en/coins/bitcoin\n",
      "Status:  200\n",
      "['$16,980.58', '$16,895.24', '$19,002.04', '$325,143,072,732']\n",
      "Getting stats from:  https://www.coingecko.com/en/coins/ethereum\n",
      "Status:  200\n",
      "['$1,172.17', '$1,150.07', '$1,396.33', '$140,729,516,771']\n",
      "Getting stats from:  https://www.coingecko.com/en/coins/tether\n",
      "Status:  200\n",
      "['$1.00', '$0.960951', '$1.02', '$70,209,775,485']\n"
     ]
    }
   ],
   "source": [
    "headers = {'User-Agent': 'Mozilla/5.0 (Windows NT 6.1) AppleWebKit/537.36 (KHTML, like Gecko) Chrome/41.0.2228.0 Safari/537.36',}\n",
    "url = 'https://www.coingecko.com/'\n",
    "page = requests.get(url, headers = headers)\n",
    "\n",
    "print('Status main web page: ', page.status_code) \n",
    "\n",
    "soup = BeautifulSoup(page.content, 'html.parser')\n",
    "\n",
    "# for each in the web page get name and link\n",
    "all_coin_names = soup.find_all('a', class_ = 'tw-flex tw-items-start md:tw-flex-row tw-flex-col')\n",
    "# Limited for the first three coins \n",
    "aux_all = all_coin_names[:3]\n",
    "list_href_coins = []\n",
    "list_coin_names = []\n",
    "for coin in aux_all:\n",
    "    list_href_coins.append(coin['href'][1:])\n",
    "    list_coin_names.append(coin['href'].split('/')[3])\n",
    "# build coin url\n",
    "for index, href in enumerate(list_href_coins):\n",
    "    list_href_coins[index] = url + href\n",
    "\n",
    "def get_stats_coin(url):\n",
    "    print('Getting stats from: ', url)\n",
    "    url_coin = url\n",
    "    page_coin = requests.get(url_coin, headers = headers)\n",
    "    soup_coin = BeautifulSoup(page_coin.content, 'html.parser')\n",
    "    print('Status: ', page.status_code)\n",
    "    test = soup_coin.find_all('span', class_ = 'no-wrap')\n",
    "    stats_coin = []\n",
    "    for t in test[:4]:\n",
    "        stats_coin.append(t.text)\n",
    "    return stats_coin\n",
    "\n",
    "for href in list_href_coins:\n",
    "    print(get_stats_coin(href))"
   ]
  },
  {
   "cell_type": "code",
   "execution_count": null,
   "id": "364efbb7",
   "metadata": {},
   "outputs": [],
   "source": []
  }
 ],
 "metadata": {
  "kernelspec": {
   "display_name": "Python 3 (ipykernel)",
   "language": "python",
   "name": "python3"
  },
  "language_info": {
   "codemirror_mode": {
    "name": "ipython",
    "version": 3
   },
   "file_extension": ".py",
   "mimetype": "text/x-python",
   "name": "python",
   "nbconvert_exporter": "python",
   "pygments_lexer": "ipython3",
   "version": "3.7.11"
  }
 },
 "nbformat": 4,
 "nbformat_minor": 5
}
