{
 "cells": [
  {
   "cell_type": "code",
   "execution_count": 1,
   "id": "f77fd64f",
   "metadata": {},
   "outputs": [],
   "source": [
    "import requests\n",
    "from bs4 import BeautifulSoup"
   ]
  },
  {
   "cell_type": "code",
   "execution_count": 10,
   "id": "34e35c6d",
   "metadata": {},
   "outputs": [
    {
     "name": "stdout",
     "output_type": "stream",
     "text": [
      "<!DOCTYPE html>\n",
      "<html lang=\"en-US\">\n",
      "<head>\n",
      "    <title>Just a moment...</title>\n",
      "    <meta http-equiv=\"Content-Type\" content=\"text/html; charset=UTF-8\">\n",
      "    <meta http-equiv=\"X-UA-Compatible\" content=\"IE=Edge\">\n",
      "    <meta name=\"robots\" content=\"noindex,nofollow\">\n",
      "    <meta name=\"viewport\" content=\"width=device-width,initial-scale=1\">\n",
      "    <link href=\"/cdn-cgi/styles/challenges.css\" rel=\"stylesheet\">\n",
      "    <meta http-equiv=\"refresh\" content=\"35\">\n",
      "\n",
      "</head>\n",
      "<body class=\"no-js\">\n",
      "    <div class=\"main-wrapper\" role=\"main\">\n",
      "    <div class=\"main-content\">\n",
      "        <h1 class=\"zone-name-title h1\">\n",
      "            <img class=\"heading-favicon\" src=\"/favicon.ico\"\n",
      "                 onerror=\"this.onerror=null;this.parentNode.removeChild(this)\">\n",
      "            www.coingecko.com\n",
      "        </h1>\n",
      "        <h2 class=\"h2\" id=\"challenge-running\">\n",
      "            Checking if the site connection is secure\n",
      "        </h2>\n",
      "        <noscript>\n",
      "            <div id=\"challenge-error-title\">\n",
      "                <div class=\"h2\">\n",
      "                    <span class=\"icon-wrapper\">\n",
      "                        <div class=\"heading-icon warning-icon\"></div>\n",
      "                    </span>\n",
      "                    <span id=\"challenge-error-text\">\n",
      "                        Enable JavaScript and cookies to continue\n",
      "                    </span>\n",
      "                </div>\n",
      "            </div>\n",
      "        </noscript>\n",
      "        <div id=\"trk_jschal_js\" style=\"display:none;background-image:url('/cdn-cgi/images/trace/jsch/nojs/transparent.gif?ray=76765ad4ee9f03fe')\"></div>\n",
      "        <div id=\"challenge-body-text\" class=\"core-msg spacer\">\n",
      "            www.coingecko.com needs to review the security of your connection before proceeding.\n",
      "        </div>\n",
      "        <form id=\"challenge-form\" action=\"/?__cf_chl_f_tk=_h3i.SFUVIOQQsWG0kwhF10X3tEBhsw2uv1DR_lzAh8-1667994878-0-gaNycGzNBz0\" method=\"POST\" enctype=\"application/x-www-form-urlencoded\">\n",
      "            <input type=\"hidden\" name=\"md\" value=\"6X11Tn5bg4ECdI5Ak9kdzWUK9XU9LCHbMttUzlww0XU-1667994878-0-ASOobUgQ4ippVQDSUt3hfoYKAbjAMC0KbgI7JmR0OE6mu4i9gGc6gggEJn1ByEG3v6vsDAlqfkS8nLtfG9Q4vC5yxMCWIgGtsFf-kL3gD2XRDJGXniImKOZC4qDrQ3MwgMJGLi1ZvRJ9YR1ZPuhkc2imRUVtm1FwGNjAZzdK8dv3ztE-ICffhwoPtpIOvp-cMzUivEjwmJtEhsxmRKaoQaP-N737KM7Tg3vh_Xbd6KmzSERNVmZU_qHMkE-ynyjxFQe6l6xhU6We_DWhIepbE9i06X2cujYcTT5CPV7m3CkOPQgjfN8gLcpB6J2qwoQzwXVYxYvFjyRoetWtXzsyfdprGw9LOmHlEW9Dx9kfxY08HxMo_y_xbHr1FW_6Mi8sQv7dkvo9Zy_QBNaj2sMQEvQzTZxC4myA7nucJDOs-kCx0ZZBnaiu2ZMxUylYV0mIl40OKsKo94qgMAUmdCzWpCJldfioVUHBYvGaatl5_4ss8OXv15WrbfGudx7WwkPiOAbh24JK5gNTlW4k5-f-gmjQohUiU_9csMHVKvRSsqXDOidQPZnJ2psH6C0lDs4GVaAgFgps9IYxSujXcmcht6WidkVk3zKrcX37Eu4qPoV5\">\n",
      "            <input type=\"hidden\" name=\"r\" value=\"Hqqql5YxcDRZYPi94ROGV7vXYx2uNii55xRFrOWoBI4-1667994878-0-AUQ8YqqQPRVjmHUBJYPBa8eDXafdfFLSXMvYxe3RAuhUkrCG6HF9N4te1uWcN+NZxg1WDjJfENIPLaWkdBrJQ/TM3vKxGV75mhO7D5SkEXK0jYxkKCjYQTA/p/vmZuOA2jvrLS/kWdwcsat2A5CdHRY6bcEOAGXeymQwsDN28VY23oTL3hRFCJJuIqnLVqYpPAabx7q591IlUbdjjYn6nauzvm5OemEVgOq5SQMt6ETkDcJoBWtc6p7VUV30poKsqh2TJSGp/91KU8v57dQjAV0L8NGuess95RmyHHGK9NusYvPUI7NbdF9O/wwhH6h/kKb6JSmCHzBsmDuWvoJzao8NpE1TC8YOZ5iAakrBBeefmt2jdx4tyUqiZxyaWDpQoHz5/G3vLx949p9iMvEXJTQaKzB4Zqola1+3ZYGpL+pX5YQxGUmwP94b8thB8KQdQPuUQ7/6trjQmv6ZM9rhsUkGXgL4E2ybmDAjDc9pFnjQt4X5hp87d485BbsvbQ025YmvTvm1BEUCg03I+WlQPD3PabSij7C/+9i8ywzylcKm/HEUe12UI3pd9uaV6jgePVKtW/PUtMhX433Cze87wvDXFqDh774KgySJmQOcukTKltKCIZ2GGV8JneGn5pfW78W0uNdrmI/JYStsBaaj3jq3+nR6+0SAa40Q31zVX/KJKXO58AHmb29BbYUS7HEKQz3kpAR0frOOeW7RPubdrVj5+W3kmHD50af6zdT3Lmd04FPBbyCzz86brDkRl7YqbZCF7EU0bwWTxlLrfozL50JoZ/ODXyDurSVKP0IYzQRcD1EiuQePApgT9Uo3ic/1rThTG5cxMc+pfhah6OBOMyGR0a0xmNQ2+q+4HOspK+9SP7lXShooRcIm4wxQQlaLd60W7H/vcJo7yCLuu9AVOBV3JCEZmtscrC2WEZyfjV65L29BzA467haMWZL+5+qTqYx7R/SrYMwSlnrN72tPhpWAUJTSzX8+JoiizlrRl1/shXEIJWQuYQyQBJcfWy6izuCL+RSo7bkk6nQONeeHYsGn1Wmnp1E2SnKryfxHqvTuCccfQiwnNnnx+9jJ8xbMD27gXASuBLSc/SwvwwVcCEAD1q+sH4RmniRxZ6BUWF5vjBKk8TK7vFi6ViQf5L8DVC7FC93dh8xMsgcFTdRTLVL5BDbrXgKysFKTJhIjF6FzXBWAjMHzx/tmTrLwoKCtjSbmDumbhiKjb4VIU/SHj3x4gcKlJB+stekLhX9pgkWmQEOBMsMZpo5DB1MMdWxIxPwhhxH6cgRFpsV2SIPrtonuaicFlwruGuGm6oTZNgNpyJv7A+JAICjhybCy7z+y5ayWcIwNWUO9iUNFck1iGgCw4eF1hx9WY8VyU6C60yKXZtnKt/wWUVLAYRKk6YFwfHWA2TNerwDE3HxQAytKgpg9K1a92hcWm9yfiL1SGHxoNDghCXuFU0pXHQ7JcnRIyTuy9xfXYyczFuYa1tVB09UJvk9RPVNKjBd3+h5sICFNlV2GGxfB5RFp7RXImaB5Xo1zMqr80Mhyut6aa8oXjquGnXtNcjrQynO2mZTrk3GwOqfNIbgbegTcMvxRWWT8PFvxstdx4gadBlkh5rcqWIhmbEXy0Gvifnt203axX20MfklqP4GaRbavRQY/T5+HQwZIR0LlMWVi8HTI/XG93GsLmcYZ5olF7w2AIXZZwb3obeRErxGuIc7SgPw8p4OGlcVx/imn51M0dqqpEdebCOvBrrb/O4JXAsFdblreWZ2Qqr0QfSvfR5/ARKiw5x4bww==\">\n",
      "        </form>\n",
      "    </div>\n",
      "</div>\n",
      "<script>\n",
      "    (function(){\n",
      "        window._cf_chl_opt={\n",
      "            cvId: '2',\n",
      "            cType: 'non-interactive',\n",
      "            cNounce: '72255',\n",
      "            cRay: '76765ad4ee9f03fe',\n",
      "            cHash: '7743b09ad80e325',\n",
      "            cUPMDTk: \"\\/?__cf_chl_tk=_h3i.SFUVIOQQsWG0kwhF10X3tEBhsw2uv1DR_lzAh8-1667994878-0-gaNycGzNBz0\",\n",
      "            cFPWv: 'b',\n",
      "            cTTimeMs: '1000',\n",
      "            cTplV: 4,\n",
      "            cTplB: 'cf',\n",
      "            cRq: {\n",
      "                ru: 'aHR0cHM6Ly93d3cuY29pbmdlY2tvLmNvbS8=',\n",
      "                ra: 'cHl0aG9uLXJlcXVlc3RzLzIuMjcuMQ==',\n",
      "                rm: 'R0VU',\n",
      "                d: 'yiCOj4VKLpZBGldu7b/pSg07WeXb1i8l+xdfHHSZjD44/cZuKbKXvrAmDtDVQum0KCKwKWM+9ajujv44ewRBveTPn54QEa7WY2tO86IGGMZHvlQ9xkQmNatblQv9CS7NAnOz2jLtjbr/k9QOUNfmoaWjeIE2HtPd0AxlESoASXIt3OPcRMKhb+vsW41Fb8VxbhyuxEGMMgXdyya/9UW9d/1O4VcXSkB/UkPdGrNZrL4Q/Y2+BuQmD0j+8suJ+WupY+34eMIkEnpHWLsbvJo02B1FAi3/aJuZ361qn4FgagZ8CNQmKTnnq92xHT3M53wEVsC721+ii0+2Iib+7ervngXK3zGQVe/tO5xHIBzTkSQZSkKP4wkpo4voVTZxM9Cc5KVdNkNbuv6m77r3rKjAz781HHK+jczO5Rq+cgsoEwU6yHbLqlpW/Lp9txiKbTIAB8Qy/PHhrIA+tWzqGNrAZihYcHoVO+QzstTitKWY0yhYvNswALfdUCc2SBW/czQ2TG8d/osyxaElT15fT+7trLD+GqARVJ8PH04DA9rDUOvqzgxJtprgH1UTvn0aFH5vE9F34XHZKMBtDKXkumqXlQ==',\n",
      "                t: 'MTY2Nzk5NDg3OC4yNDMwMDA=',\n",
      "                m: 'jumGwR/d1CELIrMdUQAPlx/cJHd57HahogNELCUQABU=',\n",
      "                i1: 'kqQwFuNGXUAxDa2uIkNWWw==',\n",
      "                i2: '58Zixfzw/irRNo+yeRljKg==',\n",
      "                zh: '/ya+pbMCRfmtjVDlrjgz7jm9h6TJnB1RR6OOOqDLgqo=',\n",
      "                uh: 'JNy/u1JaDY8l68+s834y37Qd6UIzTJLBzCkJPX4t/ps=',\n",
      "                hh: 'qKneT6pmIkJv7IH/3VXCDE/AA6HcaFRbT97gYa8oSz0=',\n",
      "            }\n",
      "        };\n",
      "        var trkjs = document.createElement('img');\n",
      "        trkjs.setAttribute('src', '/cdn-cgi/images/trace/jsch/js/transparent.gif?ray=76765ad4ee9f03fe');\n",
      "        trkjs.setAttribute('style', 'display: none');\n",
      "        document.body.appendChild(trkjs);\n",
      "        var cpo = document.createElement('script');\n",
      "        cpo.src = '/cdn-cgi/challenge-platform/h/b/orchestrate/jsch/v1?ray=76765ad4ee9f03fe';\n",
      "        window._cf_chl_opt.cOgUHash = location.hash === '' && location.href.indexOf('#') !== -1 ? '#' : location.hash;\n",
      "        window._cf_chl_opt.cOgUQuery = location.search === '' && location.href.slice(0, -window._cf_chl_opt.cOgUHash.length).indexOf('?') !== -1 ? '?' : location.search;\n",
      "        if (window.history && window.history.replaceState) {\n",
      "            var ogU = location.pathname + window._cf_chl_opt.cOgUQuery + window._cf_chl_opt.cOgUHash;\n",
      "            history.replaceState(null, null, \"\\/?__cf_chl_rt_tk=_h3i.SFUVIOQQsWG0kwhF10X3tEBhsw2uv1DR_lzAh8-1667994878-0-gaNycGzNBz0\" + window._cf_chl_opt.cOgUHash);\n",
      "            cpo.onload = function() {\n",
      "                history.replaceState(null, null, ogU);\n",
      "            };\n",
      "        }\n",
      "        document.getElementsByTagName('head')[0].appendChild(cpo);\n",
      "    }());\n",
      "</script>\n",
      "\n",
      "\n",
      "    <div class=\"footer\" role=\"contentinfo\">\n",
      "        <div class=\"footer-inner\">\n",
      "            <div class=\"clearfix diagnostic-wrapper\">\n",
      "                <div class=\"ray-id\">Ray ID: <code>76765ad4ee9f03fe</code></div>\n",
      "            </div>\n",
      "            <div class=\"text-center\">Performance &amp; security by <a rel=\"noopener noreferrer\" href=\"https://www.cloudflare.com?utm_source=challenge&utm_campaign=j\" target=\"_blank\">Cloudflare</a></div>\n",
      "        </div>\n",
      "    </div>\n",
      "</body>\n",
      "</html>\n",
      "\n"
     ]
    }
   ],
   "source": [
    "URL = 'https://www.coingecko.com'\n",
    "page = requests.get(URL)\n",
    "print(page.text)"
   ]
  },
  {
   "cell_type": "code",
   "execution_count": 16,
   "id": "1030431d",
   "metadata": {},
   "outputs": [
    {
     "name": "stdout",
     "output_type": "stream",
     "text": [
      "<h2 class=\"h2\" id=\"challenge-running\">\n",
      " Checking if the site connection is secure\n",
      "</h2>\n",
      "\n"
     ]
    }
   ],
   "source": [
    "soup = BeautifulSoup(page.content, \"html.parser\")\n",
    "results = soup.find(id=\"challenge-running\")\n",
    "print(results.prettify())\n"
   ]
  }
 ],
 "metadata": {
  "kernelspec": {
   "display_name": "Python 3 (ipykernel)",
   "language": "python",
   "name": "python3"
  },
  "language_info": {
   "codemirror_mode": {
    "name": "ipython",
    "version": 3
   },
   "file_extension": ".py",
   "mimetype": "text/x-python",
   "name": "python",
   "nbconvert_exporter": "python",
   "pygments_lexer": "ipython3",
   "version": "3.9.12"
  }
 },
 "nbformat": 4,
 "nbformat_minor": 5
}
