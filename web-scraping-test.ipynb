{
 "cells": [
  {
   "cell_type": "markdown",
   "id": "c5319348",
   "metadata": {},
   "source": [
    "# Needed imports"
   ]
  },
  {
   "cell_type": "code",
   "execution_count": 1,
   "id": "b96a3565",
   "metadata": {},
   "outputs": [],
   "source": [
    "import requests\n",
    "from bs4 import BeautifulSoup"
   ]
  },
  {
   "cell_type": "markdown",
   "id": "f2d9d31a",
   "metadata": {},
   "source": [
    "# Testing"
   ]
  },
  {
   "cell_type": "code",
   "execution_count": 2,
   "id": "0a187aa6",
   "metadata": {},
   "outputs": [],
   "source": [
    "headers = {'User-Agent': 'Mozilla/5.0 (Windows NT 6.1) AppleWebKit/537.36 (KHTML, like Gecko) Chrome/41.0.2228.0 Safari/537.36',}\n",
    "url = 'https://www.coingecko.com/'\n",
    "page = requests.get(url, headers = headers)\n",
    "# print(page.text)"
   ]
  },
  {
   "cell_type": "code",
   "execution_count": 3,
   "id": "2e209d3c",
   "metadata": {},
   "outputs": [
    {
     "name": "stdout",
     "output_type": "stream",
     "text": [
      "Status:  200\n"
     ]
    }
   ],
   "source": [
    "# If == 50x -> look headers from request\n",
    "# If == 200 -> is ok\n",
    "print('Status: ', page.status_code) "
   ]
  },
  {
   "cell_type": "code",
   "execution_count": 4,
   "id": "d89ba2b8",
   "metadata": {},
   "outputs": [],
   "source": [
    "soup = BeautifulSoup(page.content, 'html.parser')\n",
    "# print(soup.prettify())"
   ]
  },
  {
   "cell_type": "markdown",
   "id": "2f583418",
   "metadata": {},
   "source": [
    "## Get coin links and names"
   ]
  },
  {
   "cell_type": "code",
   "execution_count": 5,
   "id": "ede109ed",
   "metadata": {},
   "outputs": [],
   "source": [
    "# For each coin the structure is:\n",
    "# <a class=\"tw-flex tw-items-start md:tw-flex-row tw-flex-col\" href=\"/en/coins/bitcoin\">\n",
    "# <span class=\"lg:tw-flex font-bold tw-items-center tw-justify-between\">\n",
    "# Bitcoin\n",
    "# </span>\n",
    "# <span class=\"d-lg-inline font-normal text-3xs tw-ml-0 md:tw-ml-2 md:tw-self-center tw-text-gray-500 dark:tw-text-white dark:tw-text-opacity-60\">\n",
    "# BTC\n",
    "# </span>\n",
    "# </a>\n",
    "all_coin_names = soup.find_all('a', class_ = 'tw-flex tw-items-start md:tw-flex-row tw-flex-col')\n",
    "aux_all = all_coin_names[:3]\n",
    "list_href_coins = []\n",
    "list_coin_names = []\n",
    "for coin in aux_all:\n",
    "    list_href_coins.append(coin['href'][1:])\n",
    "    list_coin_names.append(coin['href'].split('/')[3])\n",
    "#     print(coin)\n",
    "#     print('\\n')\n",
    "# #     print(coin.next_element.next_element)\n",
    "# #     print('\\n')\n",
    "#     href_coin = coin.find_all('span')\n",
    "#     print(href_coin)\n",
    "#     print('\\n')\n",
    "#     print(coin.find('span'))\n",
    "    "
   ]
  },
  {
   "cell_type": "code",
   "execution_count": 6,
   "id": "07fed870",
   "metadata": {},
   "outputs": [
    {
     "name": "stdout",
     "output_type": "stream",
     "text": [
      "['bitcoin', 'ethereum', 'tether']\n",
      "['en/coins/bitcoin', 'en/coins/ethereum', 'en/coins/tether']\n"
     ]
    }
   ],
   "source": [
    "print(list_coin_names)\n",
    "print(list_href_coins)"
   ]
  },
  {
   "cell_type": "code",
   "execution_count": 7,
   "id": "19c7582e",
   "metadata": {},
   "outputs": [
    {
     "name": "stdout",
     "output_type": "stream",
     "text": [
      "['https://www.coingecko.com/en/coins/bitcoin', 'https://www.coingecko.com/en/coins/ethereum', 'https://www.coingecko.com/en/coins/tether']\n"
     ]
    }
   ],
   "source": [
    "for index, href in enumerate(list_href_coins):\n",
    "    list_href_coins[index] = url + href\n",
    "print(list_href_coins)"
   ]
  },
  {
   "cell_type": "markdown",
   "id": "a4b3f4a4",
   "metadata": {},
   "source": [
    "## For each coin"
   ]
  },
  {
   "cell_type": "code",
   "execution_count": 17,
   "id": "a8a38743",
   "metadata": {},
   "outputs": [
    {
     "name": "stdout",
     "output_type": "stream",
     "text": [
      "Status:  200\n"
     ]
    }
   ],
   "source": [
    "url_coin = list_href_coins[0]\n",
    "page_coin = requests.get(url_coin, headers = headers)\n",
    "soup_coin = BeautifulSoup(page.content, 'html.parser')\n",
    "print('Status: ', page.status_code)"
   ]
  },
  {
   "cell_type": "code",
   "execution_count": 18,
   "id": "850ea803",
   "metadata": {},
   "outputs": [
    {
     "name": "stdout",
     "output_type": "stream",
     "text": [
      "$17,052.02\n"
     ]
    }
   ],
   "source": [
    "price_coin = soup_coin.find('span', class_ = 'no-wrap').text\n",
    "print(price_coin)"
   ]
  },
  {
   "cell_type": "code",
   "execution_count": 24,
   "id": "0a60c3ce",
   "metadata": {},
   "outputs": [
    {
     "data": {
      "text/plain": [
       "['$17,052.02', '$89,479,844,371', '$326,947,267,023', '$357,545,500,146']"
      ]
     },
     "execution_count": 24,
     "metadata": {},
     "output_type": "execute_result"
    }
   ],
   "source": [
    "# first -> current price\n",
    "# second -> 24 hour trading vol\n",
    "# third -> market cap\n",
    "# fourth -> fully diluted valuation\n",
    "test = soup_coin.find_all('span', class_ = 'no-wrap')\n",
    "stats_coin = []\n",
    "for t in test[:4]:\n",
    "#     print(t.text)\n",
    "    stats_coin.append(t.text)\n",
    "stats_coin"
   ]
  },
  {
   "cell_type": "code",
   "execution_count": 36,
   "id": "84d05f34",
   "metadata": {},
   "outputs": [],
   "source": [
    "def get_stats_coin(url):\n",
    "    print('Getting stats from: ', url)\n",
    "    url_coin = url\n",
    "    page_coin = requests.get(url_coin, headers = headers)\n",
    "    soup_coin = BeautifulSoup(page_coin.content, 'html.parser')\n",
    "    print('Status: ', page.status_code)\n",
    "    test = soup_coin.find_all('span', class_ = 'no-wrap')\n",
    "    stats_coin = []\n",
    "    for t in test[:4]:\n",
    "        stats_coin.append(t.text)\n",
    "    return stats_coin"
   ]
  },
  {
   "cell_type": "code",
   "execution_count": 37,
   "id": "ec434ad8",
   "metadata": {},
   "outputs": [
    {
     "name": "stdout",
     "output_type": "stream",
     "text": [
      "Getting stats from:  https://www.coingecko.com/en/coins/bitcoin\n",
      "Status:  200\n",
      "['$16,953.29', '$16,895.24', '$19,002.04', '$326,183,224,568']\n",
      "Getting stats from:  https://www.coingecko.com/en/coins/ethereum\n",
      "Status:  200\n",
      "['$1,171.27', '$1,150.07', '$1,396.33', '$141,599,807,021']\n",
      "Getting stats from:  https://www.coingecko.com/en/coins/tether\n",
      "Status:  200\n",
      "['$1.00', '$0.960951', '$1.02', '$70,004,884,809']\n"
     ]
    }
   ],
   "source": [
    "for href in list_href_coins:\n",
    "    print(get_stats_coin(href))"
   ]
  },
  {
   "cell_type": "code",
   "execution_count": null,
   "id": "0dd851ec",
   "metadata": {},
   "outputs": [],
   "source": []
  }
 ],
 "metadata": {
  "kernelspec": {
   "display_name": "Python 3 (ipykernel)",
   "language": "python",
   "name": "python3"
  },
  "language_info": {
   "codemirror_mode": {
    "name": "ipython",
    "version": 3
   },
   "file_extension": ".py",
   "mimetype": "text/x-python",
   "name": "python",
   "nbconvert_exporter": "python",
   "pygments_lexer": "ipython3",
   "version": "3.7.11"
  }
 },
 "nbformat": 4,
 "nbformat_minor": 5
}
