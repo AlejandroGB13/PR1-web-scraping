{
 "cells": [
  {
   "cell_type": "markdown",
   "id": "fff16e69",
   "metadata": {},
   "source": [
    "# Needed imports"
   ]
  },
  {
   "cell_type": "code",
   "execution_count": 29,
   "id": "d137b2ae",
   "metadata": {},
   "outputs": [],
   "source": [
    "import requests\n",
    "from bs4 import BeautifulSoup\n",
    "import csv\n",
    "import pandas as pd\n",
    "import datetime\n",
    "import time"
   ]
  },
  {
   "cell_type": "markdown",
   "id": "7cc06106",
   "metadata": {},
   "source": [
    "# Main code"
   ]
  },
  {
   "cell_type": "code",
   "execution_count": 30,
   "id": "bbc96781",
   "metadata": {},
   "outputs": [
    {
     "name": "stdout",
     "output_type": "stream",
     "text": [
      "Status main web page:  200\n"
     ]
    }
   ],
   "source": [
    "headers = {'User-Agent': 'Mozilla/5.0 (Windows NT 6.1) AppleWebKit/537.36 (KHTML, like Gecko) Chrome/41.0.2228.0 Safari/537.36',}\n",
    "url = 'https://www.coingecko.com/'\n",
    "page = requests.get(url, headers = headers)\n",
    "\n",
    "print('Status main web page: ', page.status_code) \n",
    "\n",
    "soup = BeautifulSoup(page.content, 'html.parser')\n",
    "\n",
    "# for each in the web page get name and link\n",
    "all_coin_names = soup.find_all('a', class_ = 'tw-flex tw-items-start md:tw-flex-row tw-flex-col')\n",
    "# Limited for the first three coins \n",
    "aux_all = all_coin_names[:]\n",
    "list_href_coins = []\n",
    "list_coin_names = []\n",
    "for coin in aux_all:\n",
    "    list_href_coins.append(coin['href'][1:])\n",
    "    list_coin_names.append(coin['href'].split('/')[3])\n",
    "# build coin url\n",
    "for index, href in enumerate(list_href_coins):\n",
    "    list_href_coins[index] = url + href\n",
    "\n",
    "# def get_stats_coin(url):\n",
    "#     print('Getting stats from: ', url)\n",
    "#     url_coin = url\n",
    "#     page_coin = requests.get(url_coin, headers = headers)\n",
    "#     soup_coin = BeautifulSoup(page_coin.content, 'html.parser')\n",
    "#     print('Status: ', page.status_code)\n",
    "#     test = soup_coin.find_all('span', class_ = 'no-wrap')\n",
    "#     stats_coin = []\n",
    "#     for t in test[:4]:\n",
    "#         stats_coin.append(t.text)\n",
    "#     return stats_coin\n",
    "\n",
    "# for href in list_href_coins:\n",
    "#     print(get_stats_coin(href))\n",
    "def coin_stats_list(url):\n",
    "    page_coin = requests.get(url, headers = headers)\n",
    "    soup_coin = BeautifulSoup(page_coin.content, 'html.parser')\n",
    "    test = soup_coin.find_all('span', class_ = 'no-wrap')\n",
    "    stats_coin = []\n",
    "    stats_coin.append(url.split('/')[-1])\n",
    "    for t in test[:5]:\n",
    "        stats_coin.append(t.text)\n",
    "    return stats_coin\n",
    "\n",
    "# Write the names of each column\n",
    "header = ['Name', 'Price', 'Min_price_24h', 'Max_price_24h', 'Market_cap', 'Vol_24h']\n",
    "# Open writtable csv file and if is not existing create it\n",
    "f = open('./CoinGecko.csv', 'w+')\n",
    "writer = csv.writer(f)\n",
    "# Add the header\n",
    "writer.writerow(header)\n",
    "# Add the rows\n",
    "for href in list_href_coins:\n",
    "    writer.writerow(coin_stats_list(href))  \n",
    "f.close()\n"
   ]
  },
  {
   "cell_type": "code",
   "execution_count": null,
   "id": "3e3b4353",
   "metadata": {},
   "outputs": [],
   "source": []
  },
  {
   "cell_type": "code",
   "execution_count": 31,
   "id": "364efbb7",
   "metadata": {},
   "outputs": [],
   "source": [
    "def save_stats_csv():\n",
    "    coin_stats = []\n",
    "    for href in list_href_coins:\n",
    "        stats_aux = coin_stats_list(href)\n",
    "    #     print(stats_aux)\n",
    "        coin_aux = {'Price': stats_aux[1],\n",
    "            'Min_price_24h': stats_aux[2],\n",
    "            'Max_price_24h': stats_aux[3],\n",
    "            'Market_cap': stats_aux[4],\n",
    "            'Vol_24h': stats_aux[5]}\n",
    "        coin_stats.append(coin_aux)\n",
    "    full_df = pd.DataFrame(coin_stats)\n",
    "    full_df['Name'] = list_coin_names\n",
    "    full_df['Time'] = datetime.datetime.now()\n",
    "    full_df = full_df[['Name', 'Time', 'Price', 'Min_price_24h', 'Max_price_24h', 'Market_cap', 'Vol_24h']]\n",
    "    full_df\n",
    "    full_df.to_csv('./data/test_' + str(time.time()) + '.csv', sep=';')"
   ]
  },
  {
   "cell_type": "markdown",
   "id": "8902d54c",
   "metadata": {},
   "source": []
  },
  {
   "cell_type": "code",
   "execution_count": 32,
   "id": "a34990cd",
   "metadata": {},
   "outputs": [],
   "source": [
    "# add counter -> avoid infinite loop\n",
    "c = 0\n",
    "while(True):\n",
    "    if c == 10:\n",
    "        break\n",
    "    save_stats_csv()\n",
    "    time.sleep(300)\n",
    "    c += 1"
   ]
  },
  {
   "cell_type": "code",
   "execution_count": 26,
   "id": "18065d6b",
   "metadata": {
    "collapsed": true
   },
   "outputs": [
    {
     "name": "stdout",
     "output_type": "stream",
     "text": [
      "['stacks', '$0.232621', '$0.232545', '$0.245396', '$313,848,669', '$8,532,948']\n"
     ]
    }
   ],
   "source": []
  }
 ],
 "metadata": {
  "kernelspec": {
   "display_name": "Python 3 (ipykernel)",
   "language": "python",
   "name": "python3"
  },
  "language_info": {
   "codemirror_mode": {
    "name": "ipython",
    "version": 3
   },
   "file_extension": ".py",
   "mimetype": "text/x-python",
   "name": "python",
   "nbconvert_exporter": "python",
   "pygments_lexer": "ipython3",
   "version": "3.9.12"
  }
 },
 "nbformat": 4,
 "nbformat_minor": 5
}
